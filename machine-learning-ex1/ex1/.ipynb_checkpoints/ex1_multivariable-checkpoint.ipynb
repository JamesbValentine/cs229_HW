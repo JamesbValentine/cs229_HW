{
 "cells": [
  {
   "cell_type": "code",
   "execution_count": 1,
   "id": "0b3e7de6",
   "metadata": {},
   "outputs": [
    {
     "name": "stdout",
     "output_type": "stream",
     "text": [
      "Loading Data...\n",
      "First 10 examples from the dataset: \n",
      "x = [2104    3], y = 399900\n",
      "x = [1600    3], y = 329900\n",
      "x = [2400    3], y = 369000\n",
      "x = [1416    2], y = 232000\n",
      "x = [3000    4], y = 539900\n",
      "x = [1985    4], y = 299900\n",
      "x = [1534    3], y = 314900\n",
      "x = [1427    3], y = 198999\n",
      "x = [1380    3], y = 212000\n",
      "x = [1494    3], y = 242500\n",
      "Normalizing Features ...\n"
     ]
    }
   ],
   "source": [
    "import matplotlib.pyplot as plt\n",
    "import numpy as np\n",
    "from featureNormalize import *\n",
    "from gradientDescent import *\n",
    "from normalEqn import *\n",
    "\n",
    "plt.ion()\n",
    "\n",
    "# ===================== Part 1: Feature Normalization =====================\n",
    "print('Loading Data...')\n",
    "data = np.loadtxt('ex1data2.txt', delimiter=',', dtype=np.int64)\n",
    "X = data[:, 0:2]\n",
    "y = data[:, 2]\n",
    "m = y.size\n",
    "\n",
    "# Print out some data points\n",
    "print('First 10 examples from the dataset: ')\n",
    "for i in range(0, 10):\n",
    "    print('x = {}, y = {}'.format(X[i], y[i]))\n",
    "\n",
    "    \n",
    "# Scale features and set them to zero mean\n",
    "print('Normalizing Features ...')\n",
    "\n",
    "X, mu, sigma = feature_normalize(X)\n",
    "X = np.c_[np.ones(m), X]  # Add a column of ones to X\n",
    "\n",
    "# X.shape\n",
    "# print(X, mu, sigma)"
   ]
  },
  {
   "cell_type": "code",
   "execution_count": 2,
   "id": "5e1f11a6",
   "metadata": {},
   "outputs": [
    {
     "name": "stdout",
     "output_type": "stream",
     "text": [
      "Running gradient descent ...\n",
      "Theta computed from gradient descent : \n",
      "[ 3.38658249e+05  1.04127516e+05 -1.72205334e+02]\n",
      "Predicted price of a 1650 sq-ft, 3 br house (using gradient descent) : 292748.085\n"
     ]
    },
    {
     "data": {
      "image/png": "[encoded data removed]",
      "text/plain": [
       "<Figure size 432x288 with 1 Axes>"
      ]
     },
     "metadata": {
      "needs_background": "light"
     },
     "output_type": "display_data"
    }
   ],
   "source": [
    "# ===================== Part 2: Gradient Descent =====================\n",
    "\n",
    "# ===================== Your Code Here =====================\n",
    "# Instructions : We have provided you with the following starter\n",
    "#                code that runs gradient descent with a particular\n",
    "#                learning rate (alpha).\n",
    "#\n",
    "#                Your task is to first make sure that your functions -\n",
    "#                computeCost and gradientDescent already work with\n",
    "#                this starter code and support multiple variables.\n",
    "#\n",
    "#                After that, try running gradient descent with\n",
    "#                different values of alpha and see which one gives\n",
    "#                you the best result.\n",
    "#\n",
    "#                Finally, you should complete the code at the end\n",
    "#                to predict the price of a 1650 sq-ft, 3 br house.\n",
    "#\n",
    "# Hint: At prediction, make sure you do the same feature normalization.\n",
    "#\n",
    "\n",
    "print('Running gradient descent ...')\n",
    "\n",
    "# Choose some alpha value\n",
    "alpha = 0.1\n",
    "num_iters = 50\n",
    "\n",
    "# Init theta and Run Gradient Descent\n",
    "theta = np.zeros(3)\n",
    "theta, J_history = gradient_descent_multi(X, y, theta, alpha, num_iters)\n",
    "\n",
    "# Plot the convergence graph\n",
    "plt.figure()\n",
    "plt.plot(np.arange(J_history.size), J_history)\n",
    "plt.xlabel('Number of iterations')\n",
    "plt.ylabel('Cost J')\n",
    "\n",
    "# Display gradient descent's result\n",
    "print('Theta computed from gradient descent : \\n{}'.format(theta))\n",
    "\n",
    "# Estimate the price of a 1650 sq-ft, 3 br house\n",
    "# ===================== Your Code Here =====================\n",
    "# Recall that the first column of X is all-ones. Thus, it does\n",
    "# not need to be normalized.\n",
    "price = 0  # You should change this\n",
    "predict = np.array([1650, 3])\n",
    "predict = (predict - mu) / sigma\n",
    "predict = np.r_[(1, predict)]\n",
    "price = np.dot(predict, theta)\n",
    "\n",
    "# ==========================================================\n",
    "\n",
    "print('Predicted price of a 1650 sq-ft, 3 br house (using gradient descent) : {:0.3f}'.format(price))"
   ]
  },
  {
   "cell_type": "code",
   "execution_count": 3,
   "id": "e93ec54d",
   "metadata": {},
   "outputs": [
    {
     "name": "stdout",
     "output_type": "stream",
     "text": [
      "Solving with normal equations ...\n",
      "Theta computed from the normal equations : \n",
      "[89597.90954435   139.21067402 -8738.01911278]\n",
      "Predicted price of a 1650 sq-ft, 3 br house (using normal equations) : 293081.464\n"
     ]
    }
   ],
   "source": [
    "# ===================== Part 3: Normal Equations =====================\n",
    "\n",
    "print('Solving with normal equations ...')\n",
    "\n",
    "# ===================== Your Code Here =====================\n",
    "# Instructions : The following code computes the closed form\n",
    "#                solution for linear regression using the normal\n",
    "#                equations. You should complete the code in\n",
    "#                normalEqn.py\n",
    "#\n",
    "#                After doing so, you should complete this code\n",
    "#                to predict the price of a 1650 sq-ft, 3 br house.\n",
    "#\n",
    "\n",
    "# Load data\n",
    "data = np.loadtxt('ex1data2.txt', delimiter=',', dtype=np.int64)\n",
    "X = data[:, 0:2]\n",
    "y = data[:, 2]\n",
    "m = y.size\n",
    "\n",
    "# Add intercept term to X\n",
    "X = np.c_[np.ones(m), X]\n",
    "\n",
    "theta = normal_eqn(X, y)\n",
    "\n",
    "# Display normal equation's result\n",
    "print('Theta computed from the normal equations : \\n{}'.format(theta))\n",
    "\n",
    "# Estimate the price of a 1650 sq-ft, 3 br house\n",
    "# ===================== Your Code Here =====================\n",
    "price = 0  # You should change this\n",
    "predict = np.array([1, 1650, 3])\n",
    "price = np.dot(predict, theta)\n",
    "\n",
    "# ==========================================================\n",
    "\n",
    "print('Predicted price of a 1650 sq-ft, 3 br house (using normal equations) : {:0.3f}'.format(price))"
   ]
  }
 ],
 "metadata": {
  "kernelspec": {
   "display_name": "Python 3 (ipykernel)",
   "language": "python",
   "name": "python3"
  },
  "language_info": {
   "codemirror_mode": {
    "name": "ipython",
    "version": 3
   },
   "file_extension": ".py",
   "mimetype": "text/x-python",
   "name": "python",
   "nbconvert_exporter": "python",
   "pygments_lexer": "ipython3",
   "version": "3.9.12"
  }
 },
 "nbformat": 4,
 "nbformat_minor": 5
}
